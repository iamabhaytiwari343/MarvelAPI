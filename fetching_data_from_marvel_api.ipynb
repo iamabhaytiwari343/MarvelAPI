{
 "cells": [
  {
   "cell_type": "code",
   "execution_count": 22,
   "metadata": {},
   "outputs": [],
   "source": [
    "import pandas as pd\n",
    "import requests\n",
    "import hashlib\n",
    "\n",
    "# Set up API credentials\n",
    "API_PUBLIC_KEY = \"6edaa470d00da7b9dad29966b0243043\"\n",
    "API_PRIVATE_KEY = \"ce64d5e2586b56d73e726c44dd3108bff15084f0\"\n",
    "\n",
    "# Set up timestamp parameter\n",
    "timestamp = \"1\"\n",
    "\n",
    "# Generate hash value\n",
    "to_hash = timestamp + API_PRIVATE_KEY + API_PUBLIC_KEY\n",
    "hash_value = hashlib.md5(to_hash.encode()).hexdigest()\n",
    "\n",
    "# Set up request parameters, including the hash parameter\n",
    "params = {\n",
    "    \"apikey\": API_PUBLIC_KEY,\n",
    "    \"ts\": timestamp,\n",
    "    \"hash\": hash_value,\n",
    "    \"limit\": 100  # Set the number of characters to retrieve per request\n",
    "}\n",
    "\n",
    "# Make API requests to retrieve all characters\n",
    "all_characters = []\n",
    "\n",
    "offset = 0\n",
    "total_characters = -1\n",
    "\n",
    "while total_characters == -1 or offset < total_characters:\n",
    "    params[\"offset\"] = offset\n",
    "    response = requests.get(\n",
    "        \"https://gateway.marvel.com/v1/public/characters\", params=params)\n",
    "\n",
    "    if response.status_code == 200:\n",
    "        data = response.json()[\"data\"]\n",
    "        total_characters = data[\"total\"]\n",
    "\n",
    "        # Extend the list with the characters from the current response\n",
    "        all_characters.extend(data[\"results\"])\n",
    "\n",
    "        offset += params[\"limit\"]\n",
    "    else:\n",
    "        print(\"Error retrieving characters:\", response.status_code)\n",
    "        break\n",
    "\n",
    "# Create a DataFrame from the character data\n",
    "df = pd.DataFrame(all_characters)\n",
    "\n",
    "# Write DataFrame to CSV file\n",
    "df.to_csv(\"marvel_characters.csv\", index=False)\n"
   ]
  }
 ],
 "metadata": {
  "kernelspec": {
   "display_name": "Python 3",
   "language": "python",
   "name": "python3"
  },
  "language_info": {
   "codemirror_mode": {
    "name": "ipython",
    "version": 3
   },
   "file_extension": ".py",
   "mimetype": "text/x-python",
   "name": "python",
   "nbconvert_exporter": "python",
   "pygments_lexer": "ipython3",
   "version": "3.11.2"
  },
  "orig_nbformat": 4
 },
 "nbformat": 4,
 "nbformat_minor": 2
}
